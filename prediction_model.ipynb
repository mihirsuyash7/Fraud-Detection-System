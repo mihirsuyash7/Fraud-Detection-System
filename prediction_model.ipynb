{
 "cells": [
  {
   "cell_type": "code",
   "execution_count": 2,
   "metadata": {},
   "outputs": [],
   "source": [
    "import tensorflow as tf\n",
    "import pandas as pd                                         # data processing, CSV file I/O (e.g. pd.read_csv)\n",
    "import numpy as np                                          # linear algebra\n",
    "from tensorflow.keras.models import Sequential              # model type\n",
    "from tensorflow.keras.layers import Dense, Dropout          # dense layer, dropout layer\n",
    "from tensorflow.keras.activations import relu, sigmoid      # activation functions\n",
    "from tensorflow.keras.optimizers import SGD                 # stochastic gradient descent\n",
    "from tensorflow.keras.losses import binary_crossentropy     # cost function"
   ]
  },
  {
   "cell_type": "code",
   "execution_count": 5,
   "metadata": {},
   "outputs": [
    {
     "data": {
      "text/html": [
       "<div>\n",
       "<style scoped>\n",
       "    .dataframe tbody tr th:only-of-type {\n",
       "        vertical-align: middle;\n",
       "    }\n",
       "\n",
       "    .dataframe tbody tr th {\n",
       "        vertical-align: top;\n",
       "    }\n",
       "\n",
       "    .dataframe thead th {\n",
       "        text-align: right;\n",
       "    }\n",
       "</style>\n",
       "<table border=\"1\" class=\"dataframe\">\n",
       "  <thead>\n",
       "    <tr style=\"text-align: right;\">\n",
       "      <th></th>\n",
       "      <th>step</th>\n",
       "      <th>type</th>\n",
       "      <th>amount</th>\n",
       "      <th>nameOrig</th>\n",
       "      <th>oldbalanceOrg</th>\n",
       "      <th>newbalanceOrig</th>\n",
       "      <th>nameDest</th>\n",
       "      <th>oldbalanceDest</th>\n",
       "      <th>newbalanceDest</th>\n",
       "      <th>isFraud</th>\n",
       "      <th>isFlaggedFraud</th>\n",
       "    </tr>\n",
       "  </thead>\n",
       "  <tbody>\n",
       "    <tr>\n",
       "      <th>0</th>\n",
       "      <td>1</td>\n",
       "      <td>PAYMENT</td>\n",
       "      <td>9839.64</td>\n",
       "      <td>C1231006815</td>\n",
       "      <td>170136.00</td>\n",
       "      <td>160296.36</td>\n",
       "      <td>M1979787155</td>\n",
       "      <td>0.0</td>\n",
       "      <td>0.0</td>\n",
       "      <td>0</td>\n",
       "      <td>0</td>\n",
       "    </tr>\n",
       "    <tr>\n",
       "      <th>1</th>\n",
       "      <td>1</td>\n",
       "      <td>PAYMENT</td>\n",
       "      <td>1864.28</td>\n",
       "      <td>C1666544295</td>\n",
       "      <td>21249.00</td>\n",
       "      <td>19384.72</td>\n",
       "      <td>M2044282225</td>\n",
       "      <td>0.0</td>\n",
       "      <td>0.0</td>\n",
       "      <td>0</td>\n",
       "      <td>0</td>\n",
       "    </tr>\n",
       "    <tr>\n",
       "      <th>2</th>\n",
       "      <td>1</td>\n",
       "      <td>TRANSFER</td>\n",
       "      <td>181.00</td>\n",
       "      <td>C1305486145</td>\n",
       "      <td>181.00</td>\n",
       "      <td>0.00</td>\n",
       "      <td>C553264065</td>\n",
       "      <td>0.0</td>\n",
       "      <td>0.0</td>\n",
       "      <td>1</td>\n",
       "      <td>0</td>\n",
       "    </tr>\n",
       "    <tr>\n",
       "      <th>3</th>\n",
       "      <td>1</td>\n",
       "      <td>CASH_OUT</td>\n",
       "      <td>181.00</td>\n",
       "      <td>C840083671</td>\n",
       "      <td>181.00</td>\n",
       "      <td>0.00</td>\n",
       "      <td>C38997010</td>\n",
       "      <td>21182.0</td>\n",
       "      <td>0.0</td>\n",
       "      <td>1</td>\n",
       "      <td>0</td>\n",
       "    </tr>\n",
       "    <tr>\n",
       "      <th>4</th>\n",
       "      <td>1</td>\n",
       "      <td>PAYMENT</td>\n",
       "      <td>11668.14</td>\n",
       "      <td>C2048537720</td>\n",
       "      <td>41554.00</td>\n",
       "      <td>29885.86</td>\n",
       "      <td>M1230701703</td>\n",
       "      <td>0.0</td>\n",
       "      <td>0.0</td>\n",
       "      <td>0</td>\n",
       "      <td>0</td>\n",
       "    </tr>\n",
       "    <tr>\n",
       "      <th>...</th>\n",
       "      <td>...</td>\n",
       "      <td>...</td>\n",
       "      <td>...</td>\n",
       "      <td>...</td>\n",
       "      <td>...</td>\n",
       "      <td>...</td>\n",
       "      <td>...</td>\n",
       "      <td>...</td>\n",
       "      <td>...</td>\n",
       "      <td>...</td>\n",
       "      <td>...</td>\n",
       "    </tr>\n",
       "    <tr>\n",
       "      <th>999994</th>\n",
       "      <td>45</td>\n",
       "      <td>PAYMENT</td>\n",
       "      <td>2987.49</td>\n",
       "      <td>C2072426611</td>\n",
       "      <td>579096.28</td>\n",
       "      <td>576108.80</td>\n",
       "      <td>M58668896</td>\n",
       "      <td>0.0</td>\n",
       "      <td>0.0</td>\n",
       "      <td>0</td>\n",
       "      <td>0</td>\n",
       "    </tr>\n",
       "    <tr>\n",
       "      <th>999995</th>\n",
       "      <td>45</td>\n",
       "      <td>PAYMENT</td>\n",
       "      <td>10913.42</td>\n",
       "      <td>C1384914558</td>\n",
       "      <td>576108.80</td>\n",
       "      <td>565195.38</td>\n",
       "      <td>M166797080</td>\n",
       "      <td>0.0</td>\n",
       "      <td>0.0</td>\n",
       "      <td>0</td>\n",
       "      <td>0</td>\n",
       "    </tr>\n",
       "    <tr>\n",
       "      <th>999996</th>\n",
       "      <td>45</td>\n",
       "      <td>PAYMENT</td>\n",
       "      <td>2014.46</td>\n",
       "      <td>C1207593845</td>\n",
       "      <td>565195.38</td>\n",
       "      <td>563180.92</td>\n",
       "      <td>M1027899613</td>\n",
       "      <td>0.0</td>\n",
       "      <td>0.0</td>\n",
       "      <td>0</td>\n",
       "      <td>0</td>\n",
       "    </tr>\n",
       "    <tr>\n",
       "      <th>999997</th>\n",
       "      <td>45</td>\n",
       "      <td>PAYMENT</td>\n",
       "      <td>18839.45</td>\n",
       "      <td>C260638437</td>\n",
       "      <td>563180.92</td>\n",
       "      <td>544341.47</td>\n",
       "      <td>M243388883</td>\n",
       "      <td>0.0</td>\n",
       "      <td>0.0</td>\n",
       "      <td>0</td>\n",
       "      <td>0</td>\n",
       "    </tr>\n",
       "    <tr>\n",
       "      <th>999998</th>\n",
       "      <td>45</td>\n",
       "      <td>PAYMENT</td>\n",
       "      <td>17890.19</td>\n",
       "      <td>C439661237</td>\n",
       "      <td>544341.47</td>\n",
       "      <td>526451.29</td>\n",
       "      <td>M66034502</td>\n",
       "      <td>0.0</td>\n",
       "      <td>0.0</td>\n",
       "      <td>0</td>\n",
       "      <td>0</td>\n",
       "    </tr>\n",
       "  </tbody>\n",
       "</table>\n",
       "<p>999999 rows × 11 columns</p>\n",
       "</div>"
      ],
      "text/plain": [
       "        step      type    amount     nameOrig  oldbalanceOrg  newbalanceOrig   \n",
       "0          1   PAYMENT   9839.64  C1231006815      170136.00       160296.36  \\\n",
       "1          1   PAYMENT   1864.28  C1666544295       21249.00        19384.72   \n",
       "2          1  TRANSFER    181.00  C1305486145         181.00            0.00   \n",
       "3          1  CASH_OUT    181.00   C840083671         181.00            0.00   \n",
       "4          1   PAYMENT  11668.14  C2048537720       41554.00        29885.86   \n",
       "...      ...       ...       ...          ...            ...             ...   \n",
       "999994    45   PAYMENT   2987.49  C2072426611      579096.28       576108.80   \n",
       "999995    45   PAYMENT  10913.42  C1384914558      576108.80       565195.38   \n",
       "999996    45   PAYMENT   2014.46  C1207593845      565195.38       563180.92   \n",
       "999997    45   PAYMENT  18839.45   C260638437      563180.92       544341.47   \n",
       "999998    45   PAYMENT  17890.19   C439661237      544341.47       526451.29   \n",
       "\n",
       "           nameDest  oldbalanceDest  newbalanceDest  isFraud  isFlaggedFraud  \n",
       "0       M1979787155             0.0             0.0        0               0  \n",
       "1       M2044282225             0.0             0.0        0               0  \n",
       "2        C553264065             0.0             0.0        1               0  \n",
       "3         C38997010         21182.0             0.0        1               0  \n",
       "4       M1230701703             0.0             0.0        0               0  \n",
       "...             ...             ...             ...      ...             ...  \n",
       "999994    M58668896             0.0             0.0        0               0  \n",
       "999995   M166797080             0.0             0.0        0               0  \n",
       "999996  M1027899613             0.0             0.0        0               0  \n",
       "999997   M243388883             0.0             0.0        0               0  \n",
       "999998    M66034502             0.0             0.0        0               0  \n",
       "\n",
       "[999999 rows x 11 columns]"
      ]
     },
     "execution_count": 5,
     "metadata": {},
     "output_type": "execute_result"
    }
   ],
   "source": [
    "df = pd.read_csv('dataset\\Fraud_Detection_Dataset.csv')\n",
    "df"
   ]
  },
  {
   "cell_type": "code",
   "execution_count": 6,
   "metadata": {},
   "outputs": [
    {
     "data": {
      "text/plain": [
       "step              0\n",
       "type              0\n",
       "amount            0\n",
       "nameOrig          0\n",
       "oldbalanceOrg     0\n",
       "newbalanceOrig    0\n",
       "nameDest          0\n",
       "oldbalanceDest    0\n",
       "newbalanceDest    0\n",
       "isFraud           0\n",
       "isFlaggedFraud    0\n",
       "dtype: int64"
      ]
     },
     "execution_count": 6,
     "metadata": {},
     "output_type": "execute_result"
    }
   ],
   "source": [
    "df.isnull().sum()"
   ]
  },
  {
   "cell_type": "code",
   "execution_count": 7,
   "metadata": {},
   "outputs": [
    {
     "name": "stdout",
     "output_type": "stream",
     "text": [
      "<class 'pandas.core.frame.DataFrame'>\n",
      "RangeIndex: 999999 entries, 0 to 999998\n",
      "Data columns (total 11 columns):\n",
      " #   Column          Non-Null Count   Dtype  \n",
      "---  ------          --------------   -----  \n",
      " 0   step            999999 non-null  int64  \n",
      " 1   type            999999 non-null  object \n",
      " 2   amount          999999 non-null  float64\n",
      " 3   nameOrig        999999 non-null  object \n",
      " 4   oldbalanceOrg   999999 non-null  float64\n",
      " 5   newbalanceOrig  999999 non-null  float64\n",
      " 6   nameDest        999999 non-null  object \n",
      " 7   oldbalanceDest  999999 non-null  float64\n",
      " 8   newbalanceDest  999999 non-null  float64\n",
      " 9   isFraud         999999 non-null  int64  \n",
      " 10  isFlaggedFraud  999999 non-null  int64  \n",
      "dtypes: float64(5), int64(3), object(3)\n",
      "memory usage: 83.9+ MB\n"
     ]
    }
   ],
   "source": [
    "df.info()"
   ]
  },
  {
   "cell_type": "code",
   "execution_count": 8,
   "metadata": {},
   "outputs": [
    {
     "data": {
      "text/plain": [
       "Index(['type', 'nameOrig', 'nameDest'], dtype='object')"
      ]
     },
     "execution_count": 8,
     "metadata": {},
     "output_type": "execute_result"
    }
   ],
   "source": [
    "cat_columns = df.select_dtypes(include='object').columns\n",
    "cat_columns"
   ]
  },
  {
   "cell_type": "code",
   "execution_count": 9,
   "metadata": {},
   "outputs": [
    {
     "data": {
      "text/html": [
       "<div>\n",
       "<style scoped>\n",
       "    .dataframe tbody tr th:only-of-type {\n",
       "        vertical-align: middle;\n",
       "    }\n",
       "\n",
       "    .dataframe tbody tr th {\n",
       "        vertical-align: top;\n",
       "    }\n",
       "\n",
       "    .dataframe thead th {\n",
       "        text-align: right;\n",
       "    }\n",
       "</style>\n",
       "<table border=\"1\" class=\"dataframe\">\n",
       "  <thead>\n",
       "    <tr style=\"text-align: right;\">\n",
       "      <th></th>\n",
       "      <th>step</th>\n",
       "      <th>amount</th>\n",
       "      <th>oldbalanceOrg</th>\n",
       "      <th>newbalanceOrig</th>\n",
       "      <th>oldbalanceDest</th>\n",
       "      <th>newbalanceDest</th>\n",
       "      <th>isFraud</th>\n",
       "      <th>isFlaggedFraud</th>\n",
       "    </tr>\n",
       "  </thead>\n",
       "  <tbody>\n",
       "    <tr>\n",
       "      <th>0</th>\n",
       "      <td>1</td>\n",
       "      <td>9839.64</td>\n",
       "      <td>170136.00</td>\n",
       "      <td>160296.36</td>\n",
       "      <td>0.0</td>\n",
       "      <td>0.0</td>\n",
       "      <td>0</td>\n",
       "      <td>0</td>\n",
       "    </tr>\n",
       "    <tr>\n",
       "      <th>1</th>\n",
       "      <td>1</td>\n",
       "      <td>1864.28</td>\n",
       "      <td>21249.00</td>\n",
       "      <td>19384.72</td>\n",
       "      <td>0.0</td>\n",
       "      <td>0.0</td>\n",
       "      <td>0</td>\n",
       "      <td>0</td>\n",
       "    </tr>\n",
       "    <tr>\n",
       "      <th>2</th>\n",
       "      <td>1</td>\n",
       "      <td>181.00</td>\n",
       "      <td>181.00</td>\n",
       "      <td>0.00</td>\n",
       "      <td>0.0</td>\n",
       "      <td>0.0</td>\n",
       "      <td>1</td>\n",
       "      <td>0</td>\n",
       "    </tr>\n",
       "    <tr>\n",
       "      <th>3</th>\n",
       "      <td>1</td>\n",
       "      <td>181.00</td>\n",
       "      <td>181.00</td>\n",
       "      <td>0.00</td>\n",
       "      <td>21182.0</td>\n",
       "      <td>0.0</td>\n",
       "      <td>1</td>\n",
       "      <td>0</td>\n",
       "    </tr>\n",
       "    <tr>\n",
       "      <th>4</th>\n",
       "      <td>1</td>\n",
       "      <td>11668.14</td>\n",
       "      <td>41554.00</td>\n",
       "      <td>29885.86</td>\n",
       "      <td>0.0</td>\n",
       "      <td>0.0</td>\n",
       "      <td>0</td>\n",
       "      <td>0</td>\n",
       "    </tr>\n",
       "    <tr>\n",
       "      <th>...</th>\n",
       "      <td>...</td>\n",
       "      <td>...</td>\n",
       "      <td>...</td>\n",
       "      <td>...</td>\n",
       "      <td>...</td>\n",
       "      <td>...</td>\n",
       "      <td>...</td>\n",
       "      <td>...</td>\n",
       "    </tr>\n",
       "    <tr>\n",
       "      <th>999994</th>\n",
       "      <td>45</td>\n",
       "      <td>2987.49</td>\n",
       "      <td>579096.28</td>\n",
       "      <td>576108.80</td>\n",
       "      <td>0.0</td>\n",
       "      <td>0.0</td>\n",
       "      <td>0</td>\n",
       "      <td>0</td>\n",
       "    </tr>\n",
       "    <tr>\n",
       "      <th>999995</th>\n",
       "      <td>45</td>\n",
       "      <td>10913.42</td>\n",
       "      <td>576108.80</td>\n",
       "      <td>565195.38</td>\n",
       "      <td>0.0</td>\n",
       "      <td>0.0</td>\n",
       "      <td>0</td>\n",
       "      <td>0</td>\n",
       "    </tr>\n",
       "    <tr>\n",
       "      <th>999996</th>\n",
       "      <td>45</td>\n",
       "      <td>2014.46</td>\n",
       "      <td>565195.38</td>\n",
       "      <td>563180.92</td>\n",
       "      <td>0.0</td>\n",
       "      <td>0.0</td>\n",
       "      <td>0</td>\n",
       "      <td>0</td>\n",
       "    </tr>\n",
       "    <tr>\n",
       "      <th>999997</th>\n",
       "      <td>45</td>\n",
       "      <td>18839.45</td>\n",
       "      <td>563180.92</td>\n",
       "      <td>544341.47</td>\n",
       "      <td>0.0</td>\n",
       "      <td>0.0</td>\n",
       "      <td>0</td>\n",
       "      <td>0</td>\n",
       "    </tr>\n",
       "    <tr>\n",
       "      <th>999998</th>\n",
       "      <td>45</td>\n",
       "      <td>17890.19</td>\n",
       "      <td>544341.47</td>\n",
       "      <td>526451.29</td>\n",
       "      <td>0.0</td>\n",
       "      <td>0.0</td>\n",
       "      <td>0</td>\n",
       "      <td>0</td>\n",
       "    </tr>\n",
       "  </tbody>\n",
       "</table>\n",
       "<p>999999 rows × 8 columns</p>\n",
       "</div>"
      ],
      "text/plain": [
       "        step    amount  oldbalanceOrg  newbalanceOrig  oldbalanceDest   \n",
       "0          1   9839.64      170136.00       160296.36             0.0  \\\n",
       "1          1   1864.28       21249.00        19384.72             0.0   \n",
       "2          1    181.00         181.00            0.00             0.0   \n",
       "3          1    181.00         181.00            0.00         21182.0   \n",
       "4          1  11668.14       41554.00        29885.86             0.0   \n",
       "...      ...       ...            ...             ...             ...   \n",
       "999994    45   2987.49      579096.28       576108.80             0.0   \n",
       "999995    45  10913.42      576108.80       565195.38             0.0   \n",
       "999996    45   2014.46      565195.38       563180.92             0.0   \n",
       "999997    45  18839.45      563180.92       544341.47             0.0   \n",
       "999998    45  17890.19      544341.47       526451.29             0.0   \n",
       "\n",
       "        newbalanceDest  isFraud  isFlaggedFraud  \n",
       "0                  0.0        0               0  \n",
       "1                  0.0        0               0  \n",
       "2                  0.0        1               0  \n",
       "3                  0.0        1               0  \n",
       "4                  0.0        0               0  \n",
       "...                ...      ...             ...  \n",
       "999994             0.0        0               0  \n",
       "999995             0.0        0               0  \n",
       "999996             0.0        0               0  \n",
       "999997             0.0        0               0  \n",
       "999998             0.0        0               0  \n",
       "\n",
       "[999999 rows x 8 columns]"
      ]
     },
     "execution_count": 9,
     "metadata": {},
     "output_type": "execute_result"
    }
   ],
   "source": [
    "num_columns = df.select_dtypes(include=np.number).columns\n",
    "df[num_columns]"
   ]
  },
  {
   "cell_type": "code",
   "execution_count": 10,
   "metadata": {},
   "outputs": [],
   "source": [
    "from sklearn.preprocessing import OneHotEncoder\n",
    "from sklearn.compose import ColumnTransformer\n",
    "from sklearn.preprocessing import StandardScaler\n",
    "from sklearn.model_selection import train_test_split\n",
    "from sklearn.metrics import confusion_matrix, classification_report\n",
    "from sklearn.pipeline import Pipeline\n",
    "from imblearn.over_sampling import SMOTE"
   ]
  },
  {
   "cell_type": "code",
   "execution_count": 11,
   "metadata": {},
   "outputs": [],
   "source": [
    "X = df.drop(columns=['isFraud', 'isFlaggedFraud'])\n",
    "y = df['isFraud']\n",
    "smote = SMOTE()"
   ]
  },
  {
   "cell_type": "code",
   "execution_count": 12,
   "metadata": {},
   "outputs": [],
   "source": [
    "preprocessor = ColumnTransformer(\n",
    "    transformers=[\n",
    "        ('cat', OneHotEncoder(drop='first'), ['type']),\n",
    "        ('num', StandardScaler(), num_columns[:-2])\n",
    "    ])\n",
    "\n",
    "p = Pipeline(steps=[('preprocessor', preprocessor)])"
   ]
  },
  {
   "cell_type": "code",
   "execution_count": 13,
   "metadata": {},
   "outputs": [
    {
     "data": {
      "text/plain": [
       "(999999, 10)"
      ]
     },
     "execution_count": 13,
     "metadata": {},
     "output_type": "execute_result"
    }
   ],
   "source": [
    "Xp = p.fit_transform(X)\n",
    "Xp.shape"
   ]
  },
  {
   "cell_type": "code",
   "execution_count": 14,
   "metadata": {},
   "outputs": [
    {
     "data": {
      "text/plain": [
       "((1998928, 10), (1998928,))"
      ]
     },
     "execution_count": 14,
     "metadata": {},
     "output_type": "execute_result"
    }
   ],
   "source": [
    "Xp, y = smote.fit_resample(Xp, y)\n",
    "Xp.shape, y.shape"
   ]
  },
  {
   "attachments": {},
   "cell_type": "markdown",
   "metadata": {},
   "source": [
    "#### Create a Neural Network"
   ]
  },
  {
   "cell_type": "code",
   "execution_count": null,
   "metadata": {},
   "outputs": [],
   "source": [
    "model = Sequential()\n",
    "model.add(Dense(units=64, activation=relu, input_shape=(Xp.shape[1],)))\n",
    "model.add(Dropout(0.2))\n",
    "model.add(Dense(units=32, activation=relu))\n",
    "model.add(Dropout(0.2))\n",
    "model.add(Dense(units=16, activation=relu))\n",
    "model.add(Dropout(0.2))\n",
    "model.add(Dense(units=1, activation=sigmoid))"
   ]
  },
  {
   "cell_type": "code",
   "execution_count": null,
   "metadata": {},
   "outputs": [],
   "source": [
    "model_vgg7 = Sequential()\n",
    "model_vgg7.add(Dense(units=256, activation=relu, input_shape=(Xp.shape[1],)))\n",
    "model_vgg7.add(Dropout(0.2))\n",
    "model_vgg7.add(Dense(units=128, activation=relu))\n",
    "model_vgg7.add(Dropout(0.2))\n",
    "model_vgg7.add(Dense(units=64, activation=relu))\n",
    "model_vgg7.add(Dropout(0.2))\n",
    "model_vgg7.add(Dense(units=32, activation=relu))\n",
    "model_vgg7.add(Dropout(0.2))\n",
    "model_vgg7.add(Dense(units=16, activation=relu))\n",
    "model_vgg7.add(Dropout(0.2))\n",
    "model_vgg7.add(Dense(units=8, activation=relu))\n",
    "model_vgg7.add(Dropout(0.2))\n",
    "model_vgg7.add(Dense(units=1, activation=sigmoid))\n"
   ]
  },
  {
   "cell_type": "code",
   "execution_count": 17,
   "metadata": {},
   "outputs": [
    {
     "name": "stdout",
     "output_type": "stream",
     "text": [
      "Model: \"sequential\"\n",
      "_________________________________________________________________\n",
      " Layer (type)                Output Shape              Param #   \n",
      "=================================================================\n",
      " dense (Dense)               (None, 64)                704       \n",
      "                                                                 \n",
      " dropout (Dropout)           (None, 64)                0         \n",
      "                                                                 \n",
      " dense_1 (Dense)             (None, 1)                 65        \n",
      "                                                                 \n",
      "=================================================================\n",
      "Total params: 769\n",
      "Trainable params: 769\n",
      "Non-trainable params: 0\n",
      "_________________________________________________________________\n"
     ]
    }
   ],
   "source": [
    "# optimizer is stochastic gradient descent, which is a good default optimizer, for more info see https://keras.io/api/optimizers/sgd/\n",
    "model.compile(\n",
    "    optimizer=SGD(),\n",
    "    loss=binary_crossentropy,\n",
    "    metrics=['accuracy', 'Precision', 'Recall']\n",
    ")\n",
    "\n",
    "model.summary()"
   ]
  },
  {
   "cell_type": "code",
   "execution_count": 18,
   "metadata": {},
   "outputs": [
    {
     "data": {
      "text/plain": [
       "((1599142, 10), (399786, 10), (1599142,), (399786,))"
      ]
     },
     "execution_count": 18,
     "metadata": {},
     "output_type": "execute_result"
    }
   ],
   "source": [
    "X_train, X_test, y_train, y_test = train_test_split(Xp, y, test_size=0.2, random_state=42)\n",
    "X_train.shape, X_test.shape, y_train.shape, y_test.shape"
   ]
  },
  {
   "cell_type": "code",
   "execution_count": 19,
   "metadata": {},
   "outputs": [
    {
     "name": "stdout",
     "output_type": "stream",
     "text": [
      "Epoch 1/10\n",
      "39979/39979 [==============================] - 130s 3ms/step - loss: 0.2621 - accuracy: 0.8788 - precision: 0.8719 - recall: 0.8881 - val_loss: 0.1948 - val_accuracy: 0.9164 - val_precision: 0.9191 - val_recall: 0.9134\n",
      "Epoch 2/10\n",
      "39979/39979 [==============================] - 127s 3ms/step - loss: 0.1833 - accuracy: 0.9221 - precision: 0.9191 - recall: 0.9255 - val_loss: 0.1597 - val_accuracy: 0.9321 - val_precision: 0.9241 - val_recall: 0.9414\n",
      "Epoch 3/10\n",
      "39979/39979 [==============================] - 6688s 167ms/step - loss: 0.1633 - accuracy: 0.9318 - precision: 0.9266 - recall: 0.9378 - val_loss: 0.1495 - val_accuracy: 0.9369 - val_precision: 0.9241 - val_recall: 0.9519\n",
      "Epoch 4/10\n",
      "39979/39979 [==============================] - 138s 3ms/step - loss: 0.1544 - accuracy: 0.9369 - precision: 0.9302 - recall: 0.9446 - val_loss: 0.1413 - val_accuracy: 0.9436 - val_precision: 0.9326 - val_recall: 0.9564\n",
      "Epoch 5/10\n",
      "39979/39979 [==============================] - 139s 3ms/step - loss: 0.1485 - accuracy: 0.9405 - precision: 0.9321 - recall: 0.9501 - val_loss: 0.1371 - val_accuracy: 0.9480 - val_precision: 0.9436 - val_recall: 0.9530\n",
      "Epoch 6/10\n",
      "39979/39979 [==============================] - 140s 3ms/step - loss: 0.1441 - accuracy: 0.9431 - precision: 0.9334 - recall: 0.9542 - val_loss: 0.1330 - val_accuracy: 0.9499 - val_precision: 0.9431 - val_recall: 0.9576\n",
      "Epoch 7/10\n",
      "39979/39979 [==============================] - 141s 4ms/step - loss: 0.1412 - accuracy: 0.9446 - precision: 0.9344 - recall: 0.9564 - val_loss: 0.1292 - val_accuracy: 0.9505 - val_precision: 0.9405 - val_recall: 0.9618\n",
      "Epoch 8/10\n",
      "39979/39979 [==============================] - 139s 3ms/step - loss: 0.1385 - accuracy: 0.9461 - precision: 0.9356 - recall: 0.9581 - val_loss: 0.1272 - val_accuracy: 0.9505 - val_precision: 0.9405 - val_recall: 0.9618\n",
      "Epoch 9/10\n",
      "39979/39979 [==============================] - 139s 3ms/step - loss: 0.1366 - accuracy: 0.9469 - precision: 0.9362 - recall: 0.9592 - val_loss: 0.1259 - val_accuracy: 0.9534 - val_precision: 0.9481 - val_recall: 0.9593\n",
      "Epoch 10/10\n",
      "39979/39979 [==============================] - 141s 4ms/step - loss: 0.1350 - accuracy: 0.9478 - precision: 0.9371 - recall: 0.9601 - val_loss: 0.1263 - val_accuracy: 0.9492 - val_precision: 0.9378 - val_recall: 0.9623\n"
     ]
    },
    {
     "data": {
      "text/plain": [
       "<keras.callbacks.History at 0x2034d579420>"
      ]
     },
     "execution_count": 19,
     "metadata": {},
     "output_type": "execute_result"
    }
   ],
   "source": [
    "model.fit(X_train, y_train, epochs=10, batch_size=32, validation_split=0.2, verbose=1, shuffle=True)"
   ]
  },
  {
   "cell_type": "code",
   "execution_count": 20,
   "metadata": {},
   "outputs": [
    {
     "name": "stdout",
     "output_type": "stream",
     "text": [
      "12494/12494 [==============================] - 34s 3ms/step - loss: 0.1260 - accuracy: 0.9492 - precision: 0.9383 - recall: 0.9618\n"
     ]
    },
    {
     "data": {
      "text/plain": [
       "[0.12598535418510437,\n",
       " 0.9492278099060059,\n",
       " 0.9382839202880859,\n",
       " 0.9617926478385925]"
      ]
     },
     "execution_count": 20,
     "metadata": {},
     "output_type": "execute_result"
    }
   ],
   "source": [
    "model.evaluate(X_test, y_test)"
   ]
  },
  {
   "cell_type": "code",
   "execution_count": 21,
   "metadata": {},
   "outputs": [
    {
     "name": "stdout",
     "output_type": "stream",
     "text": [
      "12494/12494 [==============================] - 24s 2ms/step\n"
     ]
    },
    {
     "data": {
      "text/plain": [
       "<Axes: >"
      ]
     },
     "execution_count": 21,
     "metadata": {},
     "output_type": "execute_result"
    },
    {
     "data": {
      "image/png": "[encoded data removed]",
      "text/plain": [
       "<Figure size 640x480 with 2 Axes>"
      ]
     },
     "metadata": {},
     "output_type": "display_data"
    }
   ],
   "source": [
    "import seaborn as sns\n",
    "# heatmap\n",
    "ypred = model.predict(X_test)\n",
    "ypred = ypred > 0.5\n",
    "cm = confusion_matrix(y_test, ypred)\n",
    "sns.heatmap(cm, annot=True, fmt='d')"
   ]
  },
  {
   "cell_type": "code",
   "execution_count": 22,
   "metadata": {},
   "outputs": [
    {
     "name": "stdout",
     "output_type": "stream",
     "text": [
      "              precision    recall  f1-score   support\n",
      "\n",
      "           0       0.96      0.94      0.95    199746\n",
      "           1       0.94      0.96      0.95    200040\n",
      "\n",
      "    accuracy                           0.95    399786\n",
      "   macro avg       0.95      0.95      0.95    399786\n",
      "weighted avg       0.95      0.95      0.95    399786\n",
      "\n"
     ]
    }
   ],
   "source": [
    "print(classification_report(y_test, ypred))"
   ]
  },
  {
   "attachments": {},
   "cell_type": "markdown",
   "metadata": {},
   "source": [
    "#### Save the model"
   ]
  },
  {
   "cell_type": "code",
   "execution_count": 23,
   "metadata": {},
   "outputs": [
    {
     "data": {
      "text/plain": [
       "['ann_fraud_detection_preprocessor.jb']"
      ]
     },
     "execution_count": 23,
     "metadata": {},
     "output_type": "execute_result"
    }
   ],
   "source": [
    "from joblib import dump\n",
    "model.save('ann_fraud_detection.h5')\n",
    "dump(p, 'ann_fraud_detection_preprocessor.jb')"
   ]
  },
  {
   "attachments": {},
   "cell_type": "markdown",
   "metadata": {},
   "source": [
    "#### Load the model and preprocessor"
   ]
  },
  {
   "cell_type": "code",
   "execution_count": 24,
   "metadata": {},
   "outputs": [],
   "source": [
    "from joblib import load\n",
    "def load_model():\n",
    "    model = tf.keras.models.load_model('ann_fraud_detection.h5')\n",
    "    return model\n",
    "\n",
    "def load_preprocessor():\n",
    "    p = load('ann_fraud_detection_preprocessor.jb')\n",
    "    return p"
   ]
  },
  {
   "cell_type": "code",
   "execution_count": 26,
   "metadata": {},
   "outputs": [
    {
     "name": "stdout",
     "output_type": "stream",
     "text": [
      "Model: \"sequential\"\n",
      "_________________________________________________________________\n",
      " Layer (type)                Output Shape              Param #   \n",
      "=================================================================\n",
      " dense (Dense)               (None, 64)                704       \n",
      "                                                                 \n",
      " dropout (Dropout)           (None, 64)                0         \n",
      "                                                                 \n",
      " dense_1 (Dense)             (None, 1)                 65        \n",
      "                                                                 \n",
      "=================================================================\n",
      "Total params: 769\n",
      "Trainable params: 769\n",
      "Non-trainable params: 0\n",
      "_________________________________________________________________\n"
     ]
    }
   ],
   "source": [
    "existing_model = load_model()\n",
    "p = load_preprocessor()\n",
    "existing_model.summary()"
   ]
  },
  {
   "cell_type": "code",
   "execution_count": 27,
   "metadata": {},
   "outputs": [],
   "source": [
    "def predict_fraud(model, data):\n",
    "    data = p.transform(data)\n",
    "    prediction = model.predict(data)\n",
    "    return prediction"
   ]
  },
  {
   "cell_type": "code",
   "execution_count": 28,
   "metadata": {},
   "outputs": [
    {
     "name": "stdout",
     "output_type": "stream",
     "text": [
      "1/1 [==============================] - 0s 167ms/step\n",
      "True\n"
     ]
    }
   ],
   "source": [
    "data = pd.DataFrame({\n",
    "    'step': [1],\n",
    "    'type': ['CASH_OUT'],\n",
    "    'amount': [1000],\n",
    "    'name_orig': ['C12345'],\n",
    "    'oldbalanceOrg': [1000],\n",
    "    'newbalanceOrig': [0],\n",
    "    'name_dest': ['M12345'],\n",
    "    'oldbalanceDest': [0],\n",
    "    'newbalanceDest': [0],\n",
    "})\n",
    "\n",
    "out = predict_fraud(existing_model, data)\n",
    "print(out[0][0] > 0.5)"
   ]
  },
  {
   "cell_type": "code",
   "execution_count": 1,
   "metadata": {},
   "outputs": [
    {
     "name": "stdout",
     "output_type": "stream",
     "text": [
      "None\n",
      "True\n"
     ]
    }
   ],
   "source": [
    "n = None\n",
    "print(n)\n",
    "print(not n)"
   ]
  },
  {
   "cell_type": "code",
   "execution_count": null,
   "metadata": {},
   "outputs": [],
   "source": []
  }
 ],
 "metadata": {
  "kernelspec": {
   "display_name": "base",
   "language": "python",
   "name": "python3"
  },
  "language_info": {
   "codemirror_mode": {
    "name": "ipython",
    "version": 3
   },
   "file_extension": ".py",
   "mimetype": "text/x-python",
   "name": "python",
   "nbconvert_exporter": "python",
   "pygments_lexer": "ipython3",
   "version": "3.10.9"
  },
  "orig_nbformat": 4
 },
 "nbformat": 4,
 "nbformat_minor": 2
}
